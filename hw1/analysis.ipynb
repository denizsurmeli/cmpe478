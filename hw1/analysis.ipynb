{
 "cells": [
  {
   "cell_type": "code",
   "execution_count": 18,
   "metadata": {},
   "outputs": [],
   "source": [
    "import json\n",
    "import pandas as pd\n",
    "\n",
    "N = 10\n",
    "thread_counts = [\"1\", \"2\", \"4\", \"8\"]\n",
    "builds = [\"parallel\"]\n",
    "schedules = [\"dynamic\", \"static\", \"guided\"]\n",
    "chunk_sizes = [\"1\",\"2\",\"4\",\"8\",\"16\",\"32\",\"64\",\"128\",\"256\",\"512\",\"1024\",\"2048\",\"4096\",\"8192\"]\n",
    "bounds = [100_000, 500_000, 1_000_000,1_500_000,2_000_000]\n",
    "with open('results.json', 'r') as f:\n",
    "    results = json.load(f)\n",
    "    "
   ]
  },
  {
   "cell_type": "code",
   "execution_count": 19,
   "metadata": {},
   "outputs": [],
   "source": [
    "# t_n is the time elapsed using n threads, s_n is the speedup using n threads compared to serial\n",
    "header = [\"bound\", \"build\", \"chunk_size\", \"t1\", \"t2\", \"t4\", \"t8\", \"s2\", \"s4\", \"s8\" ]\n",
    "speedupds = [\"2\", \"4\", \"8\"]\n",
    "\n",
    "with open(\"r.csv\", \"w\") as f:\n",
    "    f.write(\",\".join(header) + \"\\n\")\n",
    "    build = \"serial\"\n",
    "    chunk_size = \"1\"\n",
    "    schedule = \"static\"\n",
    "    thread_count = \"1\"\n",
    "    for bound in bounds:\n",
    "        # don't use the df, use the results directly\n",
    "        row = [bound, build, chunk_size]\n",
    "        for thread_count in thread_counts[1:]:\n",
    "            row.append(results[build][\"1\"][schedule][chunk_size][str(bound)][\"avg_elapsed\"])\n",
    "        for speedupd in speedupds:\n",
    "            row.append(0.0)\n",
    "        f.write(\",\".join([str(x) for x in row]) + \"\\n\")\n",
    "\n",
    "with open(\"r.csv\", \"a\") as f:\n",
    "    for build in builds:\n",
    "        for bound in bounds:\n",
    "            for schedule in schedules:\n",
    "                for chunk_size in chunk_sizes:\n",
    "                        row = [bound, build, chunk_size]\n",
    "                        # row = [bound, build, chunk_size, \"t1\", \"t2\", \"t4\", \"t8\", \"s2\", \"s4\", \"s8]\n",
    "                        serial_result = results[\"serial\"][\"1\"][\"static\"][\"1\"][str(bound)][\"avg_elapsed\"]\n",
    "                        # don't use the df, use the results directly\n",
    "                        for thread_count in thread_counts:\n",
    "                            row.append(results[build][thread_count][schedule][chunk_size][str(bound)][\"avg_elapsed\"])\n",
    "                        for i in range(len(thread_counts) - 1):\n",
    "                            row.append(serial_result / row[4 + i])\n",
    "                        f.write(\",\".join([str(x) for x in row]) + \"\\n\")\n"
   ]
  },
  {
   "cell_type": "code",
   "execution_count": 20,
   "metadata": {},
   "outputs": [],
   "source": [
    "df = pd.read_csv(\"r.csv\")"
   ]
  },
  {
   "cell_type": "code",
   "execution_count": null,
   "metadata": {},
   "outputs": [],
   "source": []
  },
  {
   "cell_type": "code",
   "execution_count": null,
   "metadata": {},
   "outputs": [],
   "source": []
  },
  {
   "cell_type": "code",
   "execution_count": null,
   "metadata": {},
   "outputs": [],
   "source": []
  },
  {
   "cell_type": "code",
   "execution_count": null,
   "metadata": {},
   "outputs": [],
   "source": []
  },
  {
   "cell_type": "code",
   "execution_count": null,
   "metadata": {},
   "outputs": [],
   "source": []
  }
 ],
 "metadata": {
  "kernelspec": {
   "display_name": "Python 3",
   "language": "python",
   "name": "python3"
  },
  "language_info": {
   "codemirror_mode": {
    "name": "ipython",
    "version": 3
   },
   "file_extension": ".py",
   "mimetype": "text/x-python",
   "name": "python",
   "nbconvert_exporter": "python",
   "pygments_lexer": "ipython3",
   "version": "3.8.17"
  }
 },
 "nbformat": 4,
 "nbformat_minor": 2
}
